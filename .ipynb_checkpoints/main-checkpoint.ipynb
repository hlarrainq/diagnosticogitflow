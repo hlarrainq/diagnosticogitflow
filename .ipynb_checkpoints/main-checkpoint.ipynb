{
 "cells": [
  {
   "cell_type": "markdown",
   "id": "3e833250",
   "metadata": {},
   "source": [
    "# Evaluación Diagnóstica gitflow\n",
    "Hernán Larraín Quezada\n",
    "\n",
    "Hola! Este es el archivo con la función main que utilizará las otras funciones creadas para esta evaluación."
   ]
  },
  {
   "cell_type": "markdown",
   "id": "e4c953db",
   "metadata": {},
   "source": [
    "Primero vamos a importar todas las funciones creadas anteriormente."
   ]
  },
  {
   "cell_type": "code",
   "execution_count": 6,
   "id": "3ff7bef5",
   "metadata": {},
   "outputs": [],
   "source": [
    "import days_most_tweets\n",
    "from most_hashtag import *\n",
    "from most_ntweets import *\n",
    "from most_retweets import *"
   ]
  },
  {
   "cell_type": "markdown",
   "id": "3af8ed2e",
   "metadata": {},
   "source": [
    "Ahora utilizaremos cada una de las funciones pedidas. El dataset debe estar en la carpeta base y con el nombre 'db.json'"
   ]
  },
  {
   "cell_type": "code",
   "execution_count": 3,
   "id": "c2858cb6",
   "metadata": {},
   "outputs": [
    {
     "name": "stdout",
     "output_type": "stream",
     "text": [
      "https://twitter.com/dhruv_rathee/status/1364148079117615105 con 6592 retweets.\n",
      "https://twitter.com/TanDhesi/status/1368994520004780034 con 2837 retweets.\n",
      "https://twitter.com/sushant_says/status/1372591661490917377 con 2797 retweets.\n",
      "https://twitter.com/simran/status/1367681014739460098 con 2393 retweets.\n",
      "https://twitter.com/amaanbali/status/1363421524879843336 con 2244 retweets.\n",
      "https://twitter.com/MeghUpdates/status/1371017710700617729 con 2074 retweets.\n",
      "https://twitter.com/cjwerleman/status/1368335535786184705 con 2025 retweets.\n",
      "https://twitter.com/J4SHANBAINS/status/1370526101739511810 con 1906 retweets.\n",
      "https://twitter.com/RaviSinghKA/status/1367752937808818177 con 1789 retweets.\n",
      "https://twitter.com/saahilmenghani/status/1372570866404397059 con 1647 retweets.\n"
     ]
    }
   ],
   "source": [
    "#  Los top 10 tweets más retweeted.\n",
    "tops, valores = top_retweets('db.json', 10)\n",
    "for k in range(10):\n",
    "    print(tops[k], \"con\", valores[k], \"retweets.\")"
   ]
  },
  {
   "cell_type": "code",
   "execution_count": 5,
   "id": "68197482",
   "metadata": {},
   "outputs": [
    {
     "name": "stdout",
     "output_type": "stream",
     "text": [
      "@harjot_tweeting con 2661 tweets emitidos.\n",
      "@tasveersandhu con 1764 tweets emitidos.\n",
      "@rumsomal con 1673 tweets emitidos.\n",
      "@rebelpacifist con 1580 tweets emitidos.\n",
      "@shells_n_petals con 1529 tweets emitidos.\n",
      "@Jass_k_G con 1340 tweets emitidos.\n",
      "@with_kaur con 1326 tweets emitidos.\n",
      "@Iamjazzie96 con 1321 tweets emitidos.\n",
      "@diljit_maan12 con 1116 tweets emitidos.\n",
      "@DigitalKisanBot con 1086 tweets emitidos.\n"
     ]
    }
   ],
   "source": [
    "#  Los top 10 usuarios en función a la cantidad de tweets que emitieron.\n",
    "tops, valores = top_user_ntweets('db.json', 10)\n",
    "for k in range(10):\n",
    "    print(\"@\" + tops[k], \"con\", valores[k], \"tweets emitidos.\")"
   ]
  },
  {
   "cell_type": "code",
   "execution_count": 9,
   "id": "358db212",
   "metadata": {},
   "outputs": [
    {
     "name": "stdout",
     "output_type": "stream",
     "text": [
      "El día 2021-02-20 con 4003 tweets emitidos.\n",
      "El día 2021-03-26 con 3958 tweets emitidos.\n",
      "El día 2021-02-18 con 3875 tweets emitidos.\n",
      "El día 2021-02-19 con 3735 tweets emitidos.\n",
      "El día 2021-02-25 con 3654 tweets emitidos.\n",
      "El día 2021-02-23 con 3641 tweets emitidos.\n",
      "El día 2021-02-26 con 3598 tweets emitidos.\n",
      "El día 2021-02-21 con 3500 tweets emitidos.\n",
      "El día 2021-03-06 con 3477 tweets emitidos.\n",
      "El día 2021-02-22 con 3278 tweets emitidos.\n"
     ]
    }
   ],
   "source": [
    "#  Los top 10 días donde hay más tweets.\n",
    "tops, valores = days_most_tweets.top_retweets('db.json', 10)\n",
    "for k in range(10):\n",
    "    print(\"El día\", tops[k], \"con\", valores[k], \"tweets emitidos.\")"
   ]
  },
  {
   "cell_type": "code",
   "execution_count": 10,
   "id": "945a80f0",
   "metadata": {},
   "outputs": [
    {
     "name": "stdout",
     "output_type": "stream",
     "text": [
      "#FarmersProtest con 112738 usos.\n",
      "#farmersprotest con 3636 usos.\n",
      "#आज_भ con 3030 usos.\n",
      "#ReleaseDetainedFarmers con 2894 usos.\n",
      "#FarmersProtests con 2773 usos.\n",
      "#NoVoteToBJP con 2754 usos.\n",
      "#FarmersCallBJPboycott con 2452 usos.\n",
      "#300DeathsAtProtest con 2297 usos.\n",
      "#StandWithFarmers con 2209 usos.\n",
      "#HumanRights con 2164 usos.\n"
     ]
    }
   ],
   "source": [
    "#  Top 10 hashtags más usados.\n",
    "#  Un detalle, esto considera que las mayusculas son hashtag diferentes. Esto no se detalló en el enunciado pero se asumió.\n",
    "tops, valores = top_hashtag('db.json', 10)\n",
    "for k in range(10):\n",
    "    print(tops[k], \"con\", valores[k], \"usos.\")"
   ]
  }
 ],
 "metadata": {
  "kernelspec": {
   "display_name": "Python 3 (ipykernel)",
   "language": "python",
   "name": "python3"
  },
  "language_info": {
   "codemirror_mode": {
    "name": "ipython",
    "version": 3
   },
   "file_extension": ".py",
   "mimetype": "text/x-python",
   "name": "python",
   "nbconvert_exporter": "python",
   "pygments_lexer": "ipython3",
   "version": "3.8.8"
  }
 },
 "nbformat": 4,
 "nbformat_minor": 5
}
